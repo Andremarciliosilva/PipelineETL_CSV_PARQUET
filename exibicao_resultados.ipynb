{
 "cells": [
  {
   "cell_type": "markdown",
   "id": "3090e648",
   "metadata": {},
   "source": [
    "Imports dos pacotes e teste do método .lerarquivos"
   ]
  },
  {
   "cell_type": "code",
   "execution_count": 7,
   "id": "d6bcc5c9",
   "metadata": {},
   "outputs": [
    {
     "name": "stdout",
     "output_type": "stream",
     "text": [
      "Abaixo está o arquivo lido:\n",
      " [\n",
      "    {\n",
      "        \"Produto\": \"Notebook Gamer\",\n",
      "        \"Categoria\": \"Eletrônicos\",\n",
      "        \"Quantidade\": 3,\n",
      "        \"Venda\": 1500,\n",
      "        \"Data\": \"2023-01-15\"\n",
      "    },\n",
      "    {\n",
      "        \"Produto\": \"Mouse Sem Fio\",\n",
      "        \"Categoria\": \"Periféricos\",\n",
      "        \"Quantidade\": 10,\n",
      "        \"Venda\": 30,\n",
      "        \"Data\": \"2023-01-15\"\n",
      "    },\n",
      "    {\n",
      "        \"Produto\": \"Teclado Mecânico\",\n",
      "        \"Categoria\": \"Periféricos\",\n",
      "        \"Quantidade\": 5,\n",
      "        \"Venda\": 100,\n",
      "        \"Data\": \"2023-01-15\"\n",
      "    }\n",
      "] \n",
      "\n"
     ]
    }
   ],
   "source": [
    "import pandas as pd\n",
    "import classes as cls\n",
    "\n",
    "tratamento_json = cls.Tratamentojson()\n",
    "tratamento_json.lerarquivos('coleta_dia01.json')"
   ]
  },
  {
   "cell_type": "markdown",
   "id": "25ca2fb2",
   "metadata": {},
   "source": [
    "Exibição da leitura do resultado da concatenação dos três DataFrames"
   ]
  },
  {
   "cell_type": "code",
   "execution_count": 8,
   "id": "6d57bf25",
   "metadata": {},
   "outputs": [
    {
     "data": {
      "text/html": [
       "<style type=\"text/css\">\n",
       "</style>\n",
       "<table id=\"T_48dbd\">\n",
       "  <thead>\n",
       "    <tr>\n",
       "      <th class=\"blank level0\" >&nbsp;</th>\n",
       "      <th id=\"T_48dbd_level0_col0\" class=\"col_heading level0 col0\" >Produto</th>\n",
       "      <th id=\"T_48dbd_level0_col1\" class=\"col_heading level0 col1\" >Categoria</th>\n",
       "      <th id=\"T_48dbd_level0_col2\" class=\"col_heading level0 col2\" >Quantidade</th>\n",
       "      <th id=\"T_48dbd_level0_col3\" class=\"col_heading level0 col3\" >Venda</th>\n",
       "      <th id=\"T_48dbd_level0_col4\" class=\"col_heading level0 col4\" >Data</th>\n",
       "    </tr>\n",
       "  </thead>\n",
       "  <tbody>\n",
       "    <tr>\n",
       "      <th id=\"T_48dbd_level0_row0\" class=\"row_heading level0 row0\" >0</th>\n",
       "      <td id=\"T_48dbd_row0_col0\" class=\"data row0 col0\" >Notebook Gamer</td>\n",
       "      <td id=\"T_48dbd_row0_col1\" class=\"data row0 col1\" >Eletrônicos</td>\n",
       "      <td id=\"T_48dbd_row0_col2\" class=\"data row0 col2\" >3</td>\n",
       "      <td id=\"T_48dbd_row0_col3\" class=\"data row0 col3\" >1500</td>\n",
       "      <td id=\"T_48dbd_row0_col4\" class=\"data row0 col4\" >2023-01-15</td>\n",
       "    </tr>\n",
       "    <tr>\n",
       "      <th id=\"T_48dbd_level0_row1\" class=\"row_heading level0 row1\" >1</th>\n",
       "      <td id=\"T_48dbd_row1_col0\" class=\"data row1 col0\" >Mouse Sem Fio</td>\n",
       "      <td id=\"T_48dbd_row1_col1\" class=\"data row1 col1\" >Periféricos</td>\n",
       "      <td id=\"T_48dbd_row1_col2\" class=\"data row1 col2\" >10</td>\n",
       "      <td id=\"T_48dbd_row1_col3\" class=\"data row1 col3\" >30</td>\n",
       "      <td id=\"T_48dbd_row1_col4\" class=\"data row1 col4\" >2023-01-15</td>\n",
       "    </tr>\n",
       "    <tr>\n",
       "      <th id=\"T_48dbd_level0_row2\" class=\"row_heading level0 row2\" >2</th>\n",
       "      <td id=\"T_48dbd_row2_col0\" class=\"data row2 col0\" >Teclado Mecânico</td>\n",
       "      <td id=\"T_48dbd_row2_col1\" class=\"data row2 col1\" >Periféricos</td>\n",
       "      <td id=\"T_48dbd_row2_col2\" class=\"data row2 col2\" >5</td>\n",
       "      <td id=\"T_48dbd_row2_col3\" class=\"data row2 col3\" >100</td>\n",
       "      <td id=\"T_48dbd_row2_col4\" class=\"data row2 col4\" >2023-01-15</td>\n",
       "    </tr>\n",
       "    <tr>\n",
       "      <th id=\"T_48dbd_level0_row3\" class=\"row_heading level0 row3\" >3</th>\n",
       "      <td id=\"T_48dbd_row3_col0\" class=\"data row3 col0\" >Notebook Gamer</td>\n",
       "      <td id=\"T_48dbd_row3_col1\" class=\"data row3 col1\" >Eletrônicos</td>\n",
       "      <td id=\"T_48dbd_row3_col2\" class=\"data row3 col2\" >7</td>\n",
       "      <td id=\"T_48dbd_row3_col3\" class=\"data row3 col3\" >1500</td>\n",
       "      <td id=\"T_48dbd_row3_col4\" class=\"data row3 col4\" >2023-01-16</td>\n",
       "    </tr>\n",
       "    <tr>\n",
       "      <th id=\"T_48dbd_level0_row4\" class=\"row_heading level0 row4\" >4</th>\n",
       "      <td id=\"T_48dbd_row4_col0\" class=\"data row4 col0\" >Mouse Sem Fio</td>\n",
       "      <td id=\"T_48dbd_row4_col1\" class=\"data row4 col1\" >Periféricos</td>\n",
       "      <td id=\"T_48dbd_row4_col2\" class=\"data row4 col2\" >10</td>\n",
       "      <td id=\"T_48dbd_row4_col3\" class=\"data row4 col3\" >30</td>\n",
       "      <td id=\"T_48dbd_row4_col4\" class=\"data row4 col4\" >2023-01-16</td>\n",
       "    </tr>\n",
       "    <tr>\n",
       "      <th id=\"T_48dbd_level0_row5\" class=\"row_heading level0 row5\" >5</th>\n",
       "      <td id=\"T_48dbd_row5_col0\" class=\"data row5 col0\" >Teclado Mecânico</td>\n",
       "      <td id=\"T_48dbd_row5_col1\" class=\"data row5 col1\" >Periféricos</td>\n",
       "      <td id=\"T_48dbd_row5_col2\" class=\"data row5 col2\" >3</td>\n",
       "      <td id=\"T_48dbd_row5_col3\" class=\"data row5 col3\" >100</td>\n",
       "      <td id=\"T_48dbd_row5_col4\" class=\"data row5 col4\" >2023-01-16</td>\n",
       "    </tr>\n",
       "    <tr>\n",
       "      <th id=\"T_48dbd_level0_row6\" class=\"row_heading level0 row6\" >6</th>\n",
       "      <td id=\"T_48dbd_row6_col0\" class=\"data row6 col0\" >Notebook Gamer</td>\n",
       "      <td id=\"T_48dbd_row6_col1\" class=\"data row6 col1\" >Eletrônicos</td>\n",
       "      <td id=\"T_48dbd_row6_col2\" class=\"data row6 col2\" >7</td>\n",
       "      <td id=\"T_48dbd_row6_col3\" class=\"data row6 col3\" >1500</td>\n",
       "      <td id=\"T_48dbd_row6_col4\" class=\"data row6 col4\" >2023-01-16</td>\n",
       "    </tr>\n",
       "    <tr>\n",
       "      <th id=\"T_48dbd_level0_row7\" class=\"row_heading level0 row7\" >7</th>\n",
       "      <td id=\"T_48dbd_row7_col0\" class=\"data row7 col0\" >Mouse Sem Fio</td>\n",
       "      <td id=\"T_48dbd_row7_col1\" class=\"data row7 col1\" >Periféricos</td>\n",
       "      <td id=\"T_48dbd_row7_col2\" class=\"data row7 col2\" >10</td>\n",
       "      <td id=\"T_48dbd_row7_col3\" class=\"data row7 col3\" >30</td>\n",
       "      <td id=\"T_48dbd_row7_col4\" class=\"data row7 col4\" >2023-01-16</td>\n",
       "    </tr>\n",
       "    <tr>\n",
       "      <th id=\"T_48dbd_level0_row8\" class=\"row_heading level0 row8\" >8</th>\n",
       "      <td id=\"T_48dbd_row8_col0\" class=\"data row8 col0\" >Teclado Mecânico</td>\n",
       "      <td id=\"T_48dbd_row8_col1\" class=\"data row8 col1\" >Periféricos</td>\n",
       "      <td id=\"T_48dbd_row8_col2\" class=\"data row8 col2\" >3</td>\n",
       "      <td id=\"T_48dbd_row8_col3\" class=\"data row8 col3\" >100</td>\n",
       "      <td id=\"T_48dbd_row8_col4\" class=\"data row8 col4\" >2023-01-16</td>\n",
       "    </tr>\n",
       "  </tbody>\n",
       "</table>\n"
      ],
      "text/plain": [
       "<pandas.io.formats.style.Styler at 0x13f491310>"
      ]
     },
     "execution_count": 8,
     "metadata": {},
     "output_type": "execute_result"
    }
   ],
   "source": [
    "df = pd.read_csv('dados_concatenados.csv')\n",
    "df.style"
   ]
  },
  {
   "cell_type": "markdown",
   "id": "b1a82b7e",
   "metadata": {},
   "source": [
    "Exibição dos dados formatados"
   ]
  },
  {
   "cell_type": "code",
   "execution_count": 9,
   "id": "e55f6bf7",
   "metadata": {},
   "outputs": [
    {
     "data": {
      "text/html": [
       "<style type=\"text/css\">\n",
       "</style>\n",
       "<table id=\"T_b9054\">\n",
       "  <thead>\n",
       "    <tr>\n",
       "      <th class=\"blank level0\" >&nbsp;</th>\n",
       "      <th id=\"T_b9054_level0_col0\" class=\"col_heading level0 col0\" >Produto</th>\n",
       "      <th id=\"T_b9054_level0_col1\" class=\"col_heading level0 col1\" >Categoria</th>\n",
       "      <th id=\"T_b9054_level0_col2\" class=\"col_heading level0 col2\" >Quantidade</th>\n",
       "      <th id=\"T_b9054_level0_col3\" class=\"col_heading level0 col3\" >Venda</th>\n",
       "      <th id=\"T_b9054_level0_col4\" class=\"col_heading level0 col4\" >Data</th>\n",
       "      <th id=\"T_b9054_level0_col5\" class=\"col_heading level0 col5\" >Vendas Formatadas</th>\n",
       "    </tr>\n",
       "  </thead>\n",
       "  <tbody>\n",
       "    <tr>\n",
       "      <th id=\"T_b9054_level0_row0\" class=\"row_heading level0 row0\" >0</th>\n",
       "      <td id=\"T_b9054_row0_col0\" class=\"data row0 col0\" >Notebook Gamer</td>\n",
       "      <td id=\"T_b9054_row0_col1\" class=\"data row0 col1\" >Eletrônicos</td>\n",
       "      <td id=\"T_b9054_row0_col2\" class=\"data row0 col2\" >3</td>\n",
       "      <td id=\"T_b9054_row0_col3\" class=\"data row0 col3\" >1500</td>\n",
       "      <td id=\"T_b9054_row0_col4\" class=\"data row0 col4\" >15/01/23</td>\n",
       "      <td id=\"T_b9054_row0_col5\" class=\"data row0 col5\" >R$1.500,00</td>\n",
       "    </tr>\n",
       "    <tr>\n",
       "      <th id=\"T_b9054_level0_row1\" class=\"row_heading level0 row1\" >1</th>\n",
       "      <td id=\"T_b9054_row1_col0\" class=\"data row1 col0\" >Mouse Sem Fio</td>\n",
       "      <td id=\"T_b9054_row1_col1\" class=\"data row1 col1\" >Periféricos</td>\n",
       "      <td id=\"T_b9054_row1_col2\" class=\"data row1 col2\" >10</td>\n",
       "      <td id=\"T_b9054_row1_col3\" class=\"data row1 col3\" >30</td>\n",
       "      <td id=\"T_b9054_row1_col4\" class=\"data row1 col4\" >15/01/23</td>\n",
       "      <td id=\"T_b9054_row1_col5\" class=\"data row1 col5\" >R$30,00</td>\n",
       "    </tr>\n",
       "    <tr>\n",
       "      <th id=\"T_b9054_level0_row2\" class=\"row_heading level0 row2\" >2</th>\n",
       "      <td id=\"T_b9054_row2_col0\" class=\"data row2 col0\" >Teclado Mecânico</td>\n",
       "      <td id=\"T_b9054_row2_col1\" class=\"data row2 col1\" >Periféricos</td>\n",
       "      <td id=\"T_b9054_row2_col2\" class=\"data row2 col2\" >5</td>\n",
       "      <td id=\"T_b9054_row2_col3\" class=\"data row2 col3\" >100</td>\n",
       "      <td id=\"T_b9054_row2_col4\" class=\"data row2 col4\" >15/01/23</td>\n",
       "      <td id=\"T_b9054_row2_col5\" class=\"data row2 col5\" >R$100,00</td>\n",
       "    </tr>\n",
       "    <tr>\n",
       "      <th id=\"T_b9054_level0_row3\" class=\"row_heading level0 row3\" >3</th>\n",
       "      <td id=\"T_b9054_row3_col0\" class=\"data row3 col0\" >Notebook Gamer</td>\n",
       "      <td id=\"T_b9054_row3_col1\" class=\"data row3 col1\" >Eletrônicos</td>\n",
       "      <td id=\"T_b9054_row3_col2\" class=\"data row3 col2\" >7</td>\n",
       "      <td id=\"T_b9054_row3_col3\" class=\"data row3 col3\" >1500</td>\n",
       "      <td id=\"T_b9054_row3_col4\" class=\"data row3 col4\" >16/01/23</td>\n",
       "      <td id=\"T_b9054_row3_col5\" class=\"data row3 col5\" >R$1.500,00</td>\n",
       "    </tr>\n",
       "    <tr>\n",
       "      <th id=\"T_b9054_level0_row4\" class=\"row_heading level0 row4\" >4</th>\n",
       "      <td id=\"T_b9054_row4_col0\" class=\"data row4 col0\" >Mouse Sem Fio</td>\n",
       "      <td id=\"T_b9054_row4_col1\" class=\"data row4 col1\" >Periféricos</td>\n",
       "      <td id=\"T_b9054_row4_col2\" class=\"data row4 col2\" >10</td>\n",
       "      <td id=\"T_b9054_row4_col3\" class=\"data row4 col3\" >30</td>\n",
       "      <td id=\"T_b9054_row4_col4\" class=\"data row4 col4\" >16/01/23</td>\n",
       "      <td id=\"T_b9054_row4_col5\" class=\"data row4 col5\" >R$30,00</td>\n",
       "    </tr>\n",
       "    <tr>\n",
       "      <th id=\"T_b9054_level0_row5\" class=\"row_heading level0 row5\" >5</th>\n",
       "      <td id=\"T_b9054_row5_col0\" class=\"data row5 col0\" >Teclado Mecânico</td>\n",
       "      <td id=\"T_b9054_row5_col1\" class=\"data row5 col1\" >Periféricos</td>\n",
       "      <td id=\"T_b9054_row5_col2\" class=\"data row5 col2\" >3</td>\n",
       "      <td id=\"T_b9054_row5_col3\" class=\"data row5 col3\" >100</td>\n",
       "      <td id=\"T_b9054_row5_col4\" class=\"data row5 col4\" >16/01/23</td>\n",
       "      <td id=\"T_b9054_row5_col5\" class=\"data row5 col5\" >R$100,00</td>\n",
       "    </tr>\n",
       "    <tr>\n",
       "      <th id=\"T_b9054_level0_row6\" class=\"row_heading level0 row6\" >6</th>\n",
       "      <td id=\"T_b9054_row6_col0\" class=\"data row6 col0\" >Notebook Gamer</td>\n",
       "      <td id=\"T_b9054_row6_col1\" class=\"data row6 col1\" >Eletrônicos</td>\n",
       "      <td id=\"T_b9054_row6_col2\" class=\"data row6 col2\" >7</td>\n",
       "      <td id=\"T_b9054_row6_col3\" class=\"data row6 col3\" >1500</td>\n",
       "      <td id=\"T_b9054_row6_col4\" class=\"data row6 col4\" >16/01/23</td>\n",
       "      <td id=\"T_b9054_row6_col5\" class=\"data row6 col5\" >R$1.500,00</td>\n",
       "    </tr>\n",
       "    <tr>\n",
       "      <th id=\"T_b9054_level0_row7\" class=\"row_heading level0 row7\" >7</th>\n",
       "      <td id=\"T_b9054_row7_col0\" class=\"data row7 col0\" >Mouse Sem Fio</td>\n",
       "      <td id=\"T_b9054_row7_col1\" class=\"data row7 col1\" >Periféricos</td>\n",
       "      <td id=\"T_b9054_row7_col2\" class=\"data row7 col2\" >10</td>\n",
       "      <td id=\"T_b9054_row7_col3\" class=\"data row7 col3\" >30</td>\n",
       "      <td id=\"T_b9054_row7_col4\" class=\"data row7 col4\" >16/01/23</td>\n",
       "      <td id=\"T_b9054_row7_col5\" class=\"data row7 col5\" >R$30,00</td>\n",
       "    </tr>\n",
       "    <tr>\n",
       "      <th id=\"T_b9054_level0_row8\" class=\"row_heading level0 row8\" >8</th>\n",
       "      <td id=\"T_b9054_row8_col0\" class=\"data row8 col0\" >Teclado Mecânico</td>\n",
       "      <td id=\"T_b9054_row8_col1\" class=\"data row8 col1\" >Periféricos</td>\n",
       "      <td id=\"T_b9054_row8_col2\" class=\"data row8 col2\" >3</td>\n",
       "      <td id=\"T_b9054_row8_col3\" class=\"data row8 col3\" >100</td>\n",
       "      <td id=\"T_b9054_row8_col4\" class=\"data row8 col4\" >16/01/23</td>\n",
       "      <td id=\"T_b9054_row8_col5\" class=\"data row8 col5\" >R$100,00</td>\n",
       "    </tr>\n",
       "  </tbody>\n",
       "</table>\n"
      ],
      "text/plain": [
       "<pandas.io.formats.style.Styler at 0x156722390>"
      ]
     },
     "execution_count": 9,
     "metadata": {},
     "output_type": "execute_result"
    }
   ],
   "source": [
    "df = pd.read_csv('dados_formatados.csv')\n",
    "df.style"
   ]
  },
  {
   "cell_type": "markdown",
   "id": "cb0a5032",
   "metadata": {},
   "source": [
    "Exibição das categorias agrupadas"
   ]
  },
  {
   "cell_type": "code",
   "execution_count": 10,
   "id": "786aae8b",
   "metadata": {},
   "outputs": [
    {
     "data": {
      "text/html": [
       "<style type=\"text/css\">\n",
       "</style>\n",
       "<table id=\"T_9599e\">\n",
       "  <thead>\n",
       "    <tr>\n",
       "      <th class=\"blank level0\" >&nbsp;</th>\n",
       "      <th id=\"T_9599e_level0_col0\" class=\"col_heading level0 col0\" >Produto</th>\n",
       "      <th id=\"T_9599e_level0_col1\" class=\"col_heading level0 col1\" >Quantidade</th>\n",
       "    </tr>\n",
       "  </thead>\n",
       "  <tbody>\n",
       "    <tr>\n",
       "      <th id=\"T_9599e_level0_row0\" class=\"row_heading level0 row0\" >0</th>\n",
       "      <td id=\"T_9599e_row0_col0\" class=\"data row0 col0\" >Mouse Sem Fio</td>\n",
       "      <td id=\"T_9599e_row0_col1\" class=\"data row0 col1\" >30</td>\n",
       "    </tr>\n",
       "    <tr>\n",
       "      <th id=\"T_9599e_level0_row1\" class=\"row_heading level0 row1\" >1</th>\n",
       "      <td id=\"T_9599e_row1_col0\" class=\"data row1 col0\" >Notebook Gamer</td>\n",
       "      <td id=\"T_9599e_row1_col1\" class=\"data row1 col1\" >17</td>\n",
       "    </tr>\n",
       "    <tr>\n",
       "      <th id=\"T_9599e_level0_row2\" class=\"row_heading level0 row2\" >2</th>\n",
       "      <td id=\"T_9599e_row2_col0\" class=\"data row2 col0\" >Teclado Mecânico</td>\n",
       "      <td id=\"T_9599e_row2_col1\" class=\"data row2 col1\" >11</td>\n",
       "    </tr>\n",
       "  </tbody>\n",
       "</table>\n"
      ],
      "text/plain": [
       "<pandas.io.formats.style.Styler at 0x1564eb3d0>"
      ]
     },
     "execution_count": 10,
     "metadata": {},
     "output_type": "execute_result"
    }
   ],
   "source": [
    "df = pd.read_csv('categorias_agrupadas.csv')\n",
    "df.style"
   ]
  },
  {
   "cell_type": "markdown",
   "id": "617e4932",
   "metadata": {},
   "source": [
    "Exibição das vendas totais de cada produto"
   ]
  },
  {
   "cell_type": "code",
   "execution_count": 11,
   "id": "b998c6d0",
   "metadata": {},
   "outputs": [
    {
     "data": {
      "text/html": [
       "<style type=\"text/css\">\n",
       "</style>\n",
       "<table id=\"T_36696\">\n",
       "  <thead>\n",
       "    <tr>\n",
       "      <th class=\"blank level0\" >&nbsp;</th>\n",
       "      <th id=\"T_36696_level0_col0\" class=\"col_heading level0 col0\" >Produto</th>\n",
       "      <th id=\"T_36696_level0_col1\" class=\"col_heading level0 col1\" >Vendas Totais</th>\n",
       "    </tr>\n",
       "  </thead>\n",
       "  <tbody>\n",
       "    <tr>\n",
       "      <th id=\"T_36696_level0_row0\" class=\"row_heading level0 row0\" >0</th>\n",
       "      <td id=\"T_36696_row0_col0\" class=\"data row0 col0\" >Mouse Sem Fio</td>\n",
       "      <td id=\"T_36696_row0_col1\" class=\"data row0 col1\" >900</td>\n",
       "    </tr>\n",
       "    <tr>\n",
       "      <th id=\"T_36696_level0_row1\" class=\"row_heading level0 row1\" >1</th>\n",
       "      <td id=\"T_36696_row1_col0\" class=\"data row1 col0\" >Notebook Gamer</td>\n",
       "      <td id=\"T_36696_row1_col1\" class=\"data row1 col1\" >25500</td>\n",
       "    </tr>\n",
       "    <tr>\n",
       "      <th id=\"T_36696_level0_row2\" class=\"row_heading level0 row2\" >2</th>\n",
       "      <td id=\"T_36696_row2_col0\" class=\"data row2 col0\" >Teclado Mecânico</td>\n",
       "      <td id=\"T_36696_row2_col1\" class=\"data row2 col1\" >1100</td>\n",
       "    </tr>\n",
       "  </tbody>\n",
       "</table>\n"
      ],
      "text/plain": [
       "<pandas.io.formats.style.Styler at 0x1567a3dd0>"
      ]
     },
     "execution_count": 11,
     "metadata": {},
     "output_type": "execute_result"
    }
   ],
   "source": [
    "df = pd.read_csv('vendas_totais.csv')\n",
    "df.style"
   ]
  },
  {
   "cell_type": "markdown",
   "id": "215ea7a5",
   "metadata": {},
   "source": [
    "Filtro das vendas superiores a R$ 10.000,00"
   ]
  },
  {
   "cell_type": "code",
   "execution_count": 12,
   "id": "da9ae7ce",
   "metadata": {},
   "outputs": [
    {
     "data": {
      "text/html": [
       "<style type=\"text/css\">\n",
       "</style>\n",
       "<table id=\"T_71d40\">\n",
       "  <thead>\n",
       "    <tr>\n",
       "      <th class=\"blank level0\" >&nbsp;</th>\n",
       "      <th id=\"T_71d40_level0_col0\" class=\"col_heading level0 col0\" >Produto</th>\n",
       "      <th id=\"T_71d40_level0_col1\" class=\"col_heading level0 col1\" >Vendas Totais</th>\n",
       "    </tr>\n",
       "  </thead>\n",
       "  <tbody>\n",
       "    <tr>\n",
       "      <th id=\"T_71d40_level0_row0\" class=\"row_heading level0 row0\" >0</th>\n",
       "      <td id=\"T_71d40_row0_col0\" class=\"data row0 col0\" >Notebook Gamer</td>\n",
       "      <td id=\"T_71d40_row0_col1\" class=\"data row0 col1\" >25500</td>\n",
       "    </tr>\n",
       "  </tbody>\n",
       "</table>\n"
      ],
      "text/plain": [
       "<pandas.io.formats.style.Styler at 0x13fe280d0>"
      ]
     },
     "execution_count": 12,
     "metadata": {},
     "output_type": "execute_result"
    }
   ],
   "source": [
    "df = pd.read_csv('vendasup10mil.csv')\n",
    "df.style"
   ]
  }
 ],
 "metadata": {
  "kernelspec": {
   "display_name": "base",
   "language": "python",
   "name": "python3"
  },
  "language_info": {
   "codemirror_mode": {
    "name": "ipython",
    "version": 3
   },
   "file_extension": ".py",
   "mimetype": "text/x-python",
   "name": "python",
   "nbconvert_exporter": "python",
   "pygments_lexer": "ipython3",
   "version": "3.11.5"
  }
 },
 "nbformat": 4,
 "nbformat_minor": 5
}
